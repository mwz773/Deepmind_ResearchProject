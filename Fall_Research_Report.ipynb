{
  "cells": [
    {
      "cell_type": "markdown",
      "metadata": {
        "id": "view-in-github",
        "colab_type": "text"
      },
      "source": [
        "<a href=\"https://colab.research.google.com/github/mwz773/Deepmind_ResearchProject/blob/main/Fall_Research_Report.ipynb\" target=\"_parent\"><img src=\"https://colab.research.google.com/assets/colab-badge.svg\" alt=\"Open In Colab\"/></a>"
      ]
    },
    {
      "cell_type": "markdown",
      "metadata": {
        "id": "7QTpQiArUOTr"
      },
      "source": [
        "# 2024 Fall Research Report\n",
        "\n",
        "This report details my research under the mentorship of Revant Teotia in which I developed a rudimentary image classifier for images that have undergone a Fourier transformation. This application can be used to classify MRI spatial images, by directly taking MRI k-space to feed into the classifier for medical diagnoses and other healthcare applications.\n",
        "\n",
        "\n",
        "We detail three main parts of the research:\n",
        "\n",
        "\n",
        "1. Classification Basics\n",
        "2. Converting spatial frequencies to k-spaces with PyTorch FFT\n",
        "3. Training an image classifier on 2-channel k-space images\n",
        "\n"
      ]
    },
    {
      "cell_type": "markdown",
      "metadata": {
        "id": "TTQqd97mU-kr"
      },
      "source": [
        "# Classification Basics\n",
        "\n",
        "In the beginnings of my research, Revant suggested I brush up on classification models and machine learning basics, which I detail below:\n",
        "\n",
        "### Image Representation\n",
        "Images are represented with **tensors**, multi-dimensional arrays:\n",
        "*    Grayscale images are represented as 2D matrices, which each element corresponding to the intensity of a pixel.\n",
        "*   Color images are represented as 3D matrices, where the 3rd dimension corresponding to color channels (each pixel has 3 values - intensity of RGB channels)\n",
        "\n",
        "\n",
        "### Storing and loading tensors\n",
        "Can use PIL and OpenCV, Python libraries to store and load std image files. Can use PyTorch for saving and loading tensors, which are commonly used in deep learning workflows by using *torch.save* and *torch.load* to retrieve them later.\n",
        "\n",
        "After loading images, need to convert into PyTorch tensors using *torch.tensor(np_img)* or *transforms.ToTensor()*\n",
        "\n",
        "\n",
        "\n",
        "### Data loading for training a model\n",
        "Give a prepared dataset and to DataLoader in PyTorch which will organize input tensors into batches with specified parameters.\n",
        "\n",
        "**Training Loop**: iteratate over the dataloader, compute the loss, backpropogate, and update the model parameters.\n",
        "\n",
        "  \n",
        "\n",
        "*   **Epoch Loop**: itereates over the entire training data for a number of epochs. Each epoch indicates a complete pass through the entire dataset.\n",
        "*   **Batch Loop**: iterates over the dataset in mini-batches. The dataloader generates batches of data specified by batch size.\n",
        "*   **Zero Gradient**: clears old gradients for parameters from the previous iterations\n",
        "\n",
        "\n",
        "\n",
        "### Calculating Loss\n",
        "**Loss**: Measure of how far from our ideal ouput the model's prediction was. Cross-entropy loss is a typical loss function for classification models.\n",
        "Can use an optimizer that implements stochastic gradient descent.\n",
        "\n",
        "##### Backpropogation\n",
        "Calculates the loss in a neural network, working backwards, to improve the model's accuracy.\n",
        "\n",
        "**Forward Pass** : The neural network makes its best guess about the correct output given its current weights. It will run the input data through each of its functions to make this guess.\n",
        "\n",
        "**Backward Pass** : The neural network adjusts its parameters proportionate to the error in its guess; traverse backwards from the output, collecting the derivatives of the error with respect to parameters of functions (gradients), and optimizing the parameters using gradient descent. The gradients will be used to update the weights in the network in the next iteration.\n",
        "\n",
        "\n",
        "\n"
      ]
    },
    {
      "cell_type": "markdown",
      "source": [
        "# Training an Image Classifier\n",
        "\n",
        "For comparison, we will train an image classifier for 3-channel color spatial images. The provided code has been taken and adapted from PyTorch's 'Training a Classifier' documentation for 3-channel color images from the CIFAR10 dataset. The link can be found here: https://pytorch.org/tutorials/beginner/blitz/cifar10_tutorial.html.\n"
      ],
      "metadata": {
        "id": "1uXONq6gEo1o"
      }
    },
    {
      "cell_type": "code",
      "source": [
        "import torch\n",
        "import torchvision\n",
        "import torchvision.transforms as transforms\n",
        "import torch.nn as nn\n",
        "import torch.nn.functional as F\n",
        "import torch.optim as optim\n",
        "\n",
        "\n",
        "transform = transforms.Compose(\n",
        "    [transforms.ToTensor(),\n",
        "     transforms.Normalize((0.5, 0.5, 0.5), (0.5, 0.5, 0.5))])\n",
        "\n",
        "batch_size = 4\n",
        "\n",
        "trainset = torchvision.datasets.CIFAR10(root='./data', train=True,\n",
        "                                        download=True, transform=transform)\n",
        "trainloader = torch.utils.data.DataLoader(trainset, batch_size=batch_size,\n",
        "                                          shuffle=True, num_workers=2)\n",
        "\n",
        "testset = torchvision.datasets.CIFAR10(root='./data', train=False,\n",
        "                                       download=True, transform=transform)\n",
        "testloader = torch.utils.data.DataLoader(testset, batch_size=batch_size,\n",
        "                                         shuffle=False, num_workers=2)\n",
        "\n",
        "class Net(nn.Module):\n",
        "    def __init__(self):\n",
        "        super().__init__()\n",
        "        self.conv1 = nn.Conv2d(3, 6, 5)\n",
        "        self.pool = nn.MaxPool2d(2, 2)\n",
        "        self.conv2 = nn.Conv2d(6, 16, 5)\n",
        "        self.fc1 = nn.Linear(16 * 5 * 5, 120)\n",
        "        self.fc2 = nn.Linear(120, 84)\n",
        "        self.fc3 = nn.Linear(84, 10)\n",
        "\n",
        "    def forward(self, x):\n",
        "        x = self.pool(F.relu(self.conv1(x)))\n",
        "        x = self.pool(F.relu(self.conv2(x)))\n",
        "        x = torch.flatten(x, 1) # flatten all dimensions except batch\n",
        "        x = F.relu(self.fc1(x))\n",
        "        x = F.relu(self.fc2(x))\n",
        "        x = self.fc3(x)\n",
        "        return x\n",
        "\n",
        "\n",
        "net = Net()\n",
        "\n",
        "\n",
        "\n",
        "criterion = nn.CrossEntropyLoss()\n",
        "optimizer = optim.SGD(net.parameters(), lr=0.001, momentum=0.9)\n",
        "\n",
        "\n",
        "\n",
        "for epoch in range(2):  # loop over the dataset multiple times\n",
        "\n",
        "    running_loss = 0.0\n",
        "    for i, data in enumerate(trainloader, 0):\n",
        "        # get the inputs; data is a list of [inputs, labels]\n",
        "        inputs, labels = data\n",
        "\n",
        "        # zero the parameter gradients\n",
        "        optimizer.zero_grad()\n",
        "\n",
        "        # forward + backward + optimize\n",
        "        outputs = net(inputs)\n",
        "        loss = criterion(outputs, labels)\n",
        "        loss.backward()\n",
        "        optimizer.step()\n",
        "\n",
        "        # print statistics\n",
        "        running_loss += loss.item()\n",
        "        if i % 2000 == 1999:    # print every 2000 mini-batches\n",
        "            print(f'[{epoch + 1}, {i + 1:5d}] loss: {running_loss / 2000:.3f}')\n",
        "            running_loss = 0.0\n",
        "\n",
        "print('Finished Training')\n",
        "\n",
        "\n",
        "\n",
        "correct = 0\n",
        "total = 0\n",
        "with torch.no_grad():\n",
        "    for data in testloader:\n",
        "        images, labels = data\n",
        "        outputs = net(images)\n",
        "        _, predicted = torch.max(outputs, 1)\n",
        "        total += labels.size(0)\n",
        "        correct += (predicted == labels).sum().item()\n",
        "\n",
        "print(f'Accuracy of the network on the 10000 test images: {100 * correct // total} %')"
      ],
      "metadata": {
        "colab": {
          "base_uri": "https://localhost:8080/"
        },
        "id": "t7QwjHXEFf7e",
        "outputId": "f76c1572-53d0-4238-f181-2eef7beaeaad"
      },
      "execution_count": null,
      "outputs": [
        {
          "output_type": "stream",
          "name": "stdout",
          "text": [
            "Files already downloaded and verified\n",
            "Files already downloaded and verified\n",
            "[1,  2000] loss: 2.219\n",
            "[1,  4000] loss: 1.867\n",
            "[1,  6000] loss: 1.680\n",
            "[1,  8000] loss: 1.575\n",
            "[1, 10000] loss: 1.510\n",
            "[1, 12000] loss: 1.453\n",
            "[2,  2000] loss: 1.391\n",
            "[2,  4000] loss: 1.369\n",
            "[2,  6000] loss: 1.318\n",
            "[2,  8000] loss: 1.286\n",
            "[2, 10000] loss: 1.286\n",
            "[2, 12000] loss: 1.258\n",
            "Finished Training\n",
            "Accuracy of the network on the 10000 test images: 55 %\n"
          ]
        }
      ]
    },
    {
      "cell_type": "markdown",
      "metadata": {
        "id": "wHQ-4pmvk6ta"
      },
      "source": [
        "# Converting spatial frequencies to k-spaces\n",
        "\n",
        "Now, we will do the same thing as before but the image classifier will be trained with inputs of k-space arrays.\n",
        "\n",
        "To show what k-space images look like, we will load in the fourth image (identifiable a car) of the CIFAR10 file and its respective k-space magnitude spectrum below."
      ]
    },
    {
      "cell_type": "code",
      "source": [
        "import matplotlib.pyplot as plt\n",
        "import torch\n",
        "from torchvision import datasets, transforms\n",
        "\n",
        "device = torch.device(\"cuda\" if torch.cuda.is_available() else \"cpu\")\n",
        "\n",
        "transform = transforms.Compose([transforms.ToTensor()])\n",
        "cifar10_data = datasets.CIFAR10(root='./data', train=True, download=True, transform=transform)\n",
        "\n",
        "image, label = cifar10_data[4]\n",
        "image_np = image.numpy()\n",
        "\n",
        "plt.figure(figsize=(4,4))\n",
        "plt.title(f\"Spatial Image\")\n",
        "plt.axis('off')\n",
        "plt.imshow(image_np.transpose(1, 2, 0))\n",
        "plt.show()\n"
      ],
      "metadata": {
        "colab": {
          "base_uri": "https://localhost:8080/",
          "height": 384
        },
        "id": "N_tSxhgUVRUb",
        "outputId": "414c361e-e2de-400d-b74e-3e5a628454eb"
      },
      "execution_count": null,
      "outputs": [
        {
          "output_type": "stream",
          "name": "stdout",
          "text": [
            "Files already downloaded and verified\n"
          ]
        },
        {
          "output_type": "display_data",
          "data": {
            "text/plain": [
              "<Figure size 400x400 with 1 Axes>"
            ],
            "image/png": "[encoded data removed]"
          },
          "metadata": {}
        }
      ]
    },
    {
      "cell_type": "markdown",
      "source": [
        "Now, we will apply a fourier transform to the spatial image above.\n"
      ],
      "metadata": {
        "id": "QNyu6bBPYGbi"
      }
    },
    {
      "cell_type": "code",
      "source": [
        "image_red_channel = image_np[0]\n",
        "image_tensor = torch.tensor(image_red_channel, dtype=torch.float32)\n",
        "\n",
        "fft_image = torch.fft.fft2(image_tensor)\n",
        "fft_image_shifted = torch.fft.fftshift(fft_image)\n",
        "\n",
        "magnitude_spectrum = torch.abs(fft_image_shifted) #save this instead, save as numpy array\n",
        "magnitude_spectrum_np = magnitude_spectrum.numpy()\n",
        "\n",
        "\n",
        "plt.imshow(np.log(1 + magnitude_spectrum_np), cmap='gray')\n",
        "plt.title(\"Fourier transform\")\n",
        "plt.show()"
      ],
      "metadata": {
        "colab": {
          "base_uri": "https://localhost:8080/",
          "height": 452
        },
        "id": "eF1k114BWobB",
        "outputId": "5eda3de1-dc22-40e8-df85-d021b5a4d8d0"
      },
      "execution_count": null,
      "outputs": [
        {
          "output_type": "display_data",
          "data": {
            "text/plain": [
              "<Figure size 640x480 with 1 Axes>"
            ],
            "image/png": "[encoded data removed]"
          },
          "metadata": {}
        }
      ]
    },
    {
      "cell_type": "markdown",
      "source": [
        "To demonstrate that we can use k-space to represent spatial images, we will reconstruct the image using the k-space representation. The expected image will be the image we started with."
      ],
      "metadata": {
        "id": "dfigb4V3YLV4"
      }
    },
    {
      "cell_type": "code",
      "source": [
        "fft_image_unshifted = torch.fft.ifftshift(fft_image_shifted)\n",
        "reconstructed_image = torch.fft.ifft2(fft_image_unshifted)\n",
        "reconstructed_image_real = torch.real(reconstructed_image)\n",
        "plt.imshow(reconstructed_image_real.numpy(), cmap='gray')\n",
        "plt.title(\"Reconstructed Spatial Image\")\n",
        "plt.show()\n"
      ],
      "metadata": {
        "colab": {
          "base_uri": "https://localhost:8080/",
          "height": 452
        },
        "id": "--LdmnDgYZs4",
        "outputId": "205f9e14-7d81-4513-950c-9e725b2424be"
      },
      "execution_count": null,
      "outputs": [
        {
          "output_type": "display_data",
          "data": {
            "text/plain": [
              "<Figure size 640x480 with 1 Axes>"
            ],
            "image/png": "[encoded data removed]"
          },
          "metadata": {}
        }
      ]
    },
    {
      "cell_type": "markdown",
      "source": [
        "Below, we iterate through each image in the CIFAR10 dataset and transform them into a k-space image. We first convert the grayscale image into a numpy array and apply a fourier transformation using *torch.fft.fft2(image_tensor)*. We will be using a 2-channel k-space image by combining the real and imaginary values of the matrix to train a CNN on these arrays.These images are stored in an output folder called *cifar_kspace*."
      ],
      "metadata": {
        "id": "pyEYoK8dVNVw"
      }
    },
    {
      "cell_type": "code",
      "execution_count": null,
      "metadata": {
        "colab": {
          "base_uri": "https://localhost:8080/"
        },
        "id": "KB03N2bWz5WU",
        "outputId": "cbe15ac7-02fc-4d8b-914b-3e06a8e669ea"
      },
      "outputs": [
        {
          "output_type": "stream",
          "name": "stdout",
          "text": [
            "Files already downloaded and verified\n",
            "Files already downloaded and verified\n"
          ]
        }
      ],
      "source": [
        "import torch\n",
        "import os\n",
        "import numpy as np\n",
        "from torch.utils.data import DataLoader\n",
        "from torchvision import datasets, transforms\n",
        "\n",
        "device = torch.device(\"cuda\" if torch.cuda.is_available() else \"cpu\")\n",
        "transform = transforms.Compose([transforms.ToTensor()])\n",
        "\n",
        "# Load CIFAR-10 datasets\n",
        "train_data = datasets.CIFAR10(root='./data', train=True, download=True, transform=transform)\n",
        "test_data = datasets.CIFAR10(root='./data', train=False, download=True, transform=transform)\n",
        "\n",
        "# Define output folders to save k-space data\n",
        "output_folder = './cifar_kspace'\n",
        "train_folder = os.path.join(output_folder, 'train')\n",
        "test_folder = os.path.join(output_folder, 'test')\n",
        "os.makedirs(train_folder, exist_ok=True)\n",
        "os.makedirs(test_folder, exist_ok=True)\n",
        "\n",
        "# Function to save k-space data\n",
        "def save_kspace(dataset, folder):\n",
        "    for i, (image_tensor, label) in enumerate(dataset):\n",
        "\n",
        "        # Compute k-space using FFT for each channel separately (RGB)\n",
        "        kspace_channels = []\n",
        "        for c in range(image_tensor.shape[0]):\n",
        "            fft_image = torch.fft.fft2(image_tensor[c, :, :])\n",
        "            fft_image_shifted = torch.fft.fftshift(fft_image)\n",
        "\n",
        "            real_part = fft_image_shifted.real\n",
        "            imag_part = fft_image_shifted.imag\n",
        "\n",
        "            # Stack real and imaginary parts for each channel to form complex representation of the k-space data\n",
        "            kspace_channels.append(np.stack((real_part.numpy(), imag_part.numpy()), axis=0))\n",
        "\n",
        "        # Stack all channels (RGB) together\n",
        "        kspace_image = np.stack(kspace_channels, axis=0)\n",
        "\n",
        "        # Save as .npz file to store numpy arrays\n",
        "        file_path = os.path.join(folder, f\"image_{i}_label_{label}.npz\")\n",
        "        np.savez(file_path, kspace_image=kspace_image, label=label)\n",
        "\n",
        "# Save training and testing k-space data\n",
        "save_kspace(train_data, train_folder)\n",
        "save_kspace(test_data, test_folder)\n"
      ]
    },
    {
      "cell_type": "markdown",
      "metadata": {
        "id": "YyMbiZ8PZe07"
      },
      "source": [
        "# Training an image classifier on 2-channel k-space images\n",
        "\n",
        "\n",
        "Now, we will load in the k-space data that we have stored previously and define a CNN model that consists of two convolutional layers, each followed by max pooling, and the network then flattens the feature map and passes it thorugh 3 connected layers. ReLU activation functions are applied after each convolutional and connected layer to introduce non-linearity."
      ]
    },
    {
      "cell_type": "code",
      "execution_count": null,
      "metadata": {
        "id": "aK70BFsUUJkV"
      },
      "outputs": [],
      "source": [
        "import torch\n",
        "import os\n",
        "import numpy as np\n",
        "from torch.utils.data import Dataset, DataLoader\n",
        "import torch.nn as nn\n",
        "import torch.nn.functional as F\n",
        "import torch.optim as optim\n",
        "\n",
        "device = torch.device(\"cuda\" if torch.cuda.is_available() else \"cpu\")\n",
        "\n",
        "# Class to load .npz files containing the k-space data and labels using custom data loading logic.\n",
        "class KSpaceDataset(Dataset):\n",
        "    def __init__(self, folder):\n",
        "        self.files = [os.path.join(folder, f) for f in os.listdir(folder) if f.endswith('.npz')]\n",
        "        self.transform = transform\n",
        "\n",
        "    def __len__(self):\n",
        "        return len(self.files)\n",
        "\n",
        "    #Ensures each file is loaded, and the k-space image is reshaped, normalized, and converted into a tensor in order to fit what the model expects for its input.\n",
        "    def __getitem__(self, idx):\n",
        "      file = self.files[idx]\n",
        "      data = np.load(file)\n",
        "      kspace_image = data['kspace_image']\n",
        "      label = int(data['label'])\n",
        "\n",
        "      kspace_image = kspace_image.reshape(6, 32, 32)\n",
        "      kspace_image = (kspace_image - kspace_image.mean()) / kspace_image.std()\n",
        "\n",
        "      kspace_tensor = torch.tensor(kspace_image, dtype=torch.float32)\n",
        "      return kspace_tensor, label\n",
        "\n",
        "\n",
        "# Load training and testing data\n",
        "train_folder = './cifar_kspace/train'\n",
        "test_folder = './cifar_kspace/test'\n",
        "train_dataset = KSpaceDataset(train_folder)\n",
        "test_dataset = KSpaceDataset(test_folder)\n",
        "\n",
        "trainloader = DataLoader(train_dataset, batch_size=32, shuffle=True)\n",
        "testloader = DataLoader(test_dataset, batch_size=32, shuffle=False)\n",
        "\n",
        "# Defininf the CNN with two convolutional layers followed by three fully connected layers.\n",
        "class Net(nn.Module):\n",
        "    def __init__(self):\n",
        "        super().__init__()\n",
        "        self.conv1 = nn.Conv2d(6, 6, 5)\n",
        "        self.pool = nn.MaxPool2d(2, 2)\n",
        "        self.conv2 = nn.Conv2d(6, 16, 5)\n",
        "        self.fc1 = nn.Linear(16 * 5 * 5, 120)\n",
        "        self.fc2 = nn.Linear(120, 84)\n",
        "        self.fc3 = nn.Linear(84, 10)\n",
        "\n",
        "    def forward(self, x):\n",
        "        x = self.pool(F.relu(self.conv1(x)))\n",
        "        x = self.pool(F.relu(self.conv2(x)))\n",
        "        x = torch.flatten(x, 1)\n",
        "        x = F.relu(self.fc1(x))\n",
        "        x = F.relu(self.fc2(x))\n",
        "        x = self.fc3(x)\n",
        "        return x\n",
        "\n",
        "# Initialize model, criterion, and optimizer\n",
        "net = Net().to(device)\n",
        "criterion = nn.CrossEntropyLoss() #loss function\n",
        "optimizer = optim.SGD(net.parameters(), lr=0.01, momentum=0.9) #Stochastic Gradient Descent used to update the model's parameters during training\n",
        "\n",
        "\n",
        "train_dataset = KSpaceDataset(train_folder)\n"
      ]
    },
    {
      "cell_type": "markdown",
      "metadata": {
        "id": "awzdTvhVU_WV"
      },
      "source": [
        "# Train the network on the training data\n",
        "\n",
        "We define a training loop for the CNN to classify k-space images. The loop runs 2 epochs and processing the data in mini-batches. In each iteration, the inputs and labels are loaded, and the model then performs a forward pass, computes the loss, and backpropogates the gradients. The model updates the paramters based on these gradients. The running loss is printed for every 200 mini-batches, and plotted onto a loss curve."
      ]
    },
    {
      "cell_type": "code",
      "execution_count": null,
      "metadata": {
        "colab": {
          "base_uri": "https://localhost:8080/",
          "height": 727
        },
        "id": "G_We90t1hbRp",
        "outputId": "a19344e7-639a-489b-d08f-2ef6f1e2107d"
      },
      "outputs": [
        {
          "output_type": "stream",
          "name": "stdout",
          "text": [
            "[1,   200] loss: 4.407\n",
            "[1,   400] loss: 3.876\n",
            "[1,   600] loss: 3.660\n",
            "[1,   800] loss: 3.462\n",
            "[1,  1000] loss: 3.334\n",
            "[1,  1200] loss: 3.215\n",
            "[1,  1400] loss: 3.185\n",
            "[2,   200] loss: 3.094\n",
            "[2,   400] loss: 3.065\n",
            "[2,   600] loss: 2.970\n",
            "[2,   800] loss: 2.975\n",
            "[2,  1000] loss: 2.956\n",
            "[2,  1200] loss: 2.915\n",
            "[2,  1400] loss: 2.897\n",
            "Finished Training\n"
          ]
        },
        {
          "output_type": "display_data",
          "data": {
            "text/plain": [
              "<Figure size 1000x500 with 1 Axes>"
            ],
            "image/png": "[encoded data removed]"
          },
          "metadata": {}
        }
      ],
      "source": [
        "train_losses = []\n",
        "\n",
        "for epoch in range(2):\n",
        "\n",
        "    running_loss = 0.0\n",
        "    num_batches = 0\n",
        "    total_loss = 0.0\n",
        "\n",
        "    for i, data in enumerate(trainloader, 0):\n",
        "        inputs, labels = data\n",
        "        inputs, labels = inputs.to(device), labels.to(device)\n",
        "\n",
        "        # Forward + backward + optimize\n",
        "        outputs = net(inputs)\n",
        "        loss = criterion(outputs, labels)\n",
        "        optimizer.zero_grad()\n",
        "        loss.backward()\n",
        "        optimizer.step()\n",
        "\n",
        "        running_loss += loss.item()\n",
        "        total_loss += loss.item()\n",
        "        num_batches += 1\n",
        "\n",
        "        #Print loss for every 200 mini-batches\n",
        "        running_loss += loss.item()\n",
        "        if i % 200 == 199:\n",
        "            print(f'[{epoch + 1}, {i + 1:5d}] loss: {running_loss / 200:.3f}')\n",
        "            running_loss = 0.0\n",
        "\n",
        "        epoch_loss = total_loss / num_batches\n",
        "        train_losses.append(epoch_loss)\n",
        "\n",
        "print('Finished Training')\n",
        "\n",
        "plt.figure(figsize=(10, 5))\n",
        "plt.plot(range(1, len(train_losses) + 1), train_losses, marker = 'o', label='Training Loss')\n",
        "plt.xlabel('Epoch')\n",
        "plt.ylabel('Loss')\n",
        "plt.title('Loss Curve')\n",
        "plt.show()\n",
        "\n",
        "\n"
      ]
    },
    {
      "cell_type": "markdown",
      "metadata": {
        "id": "3TckEymhV3Gs"
      },
      "source": [
        "# Test the network on the test data\n",
        "\n",
        "Will evaluate the trained CNN on the test data. The model performs a forward pass to compute the outputs, and torch.max is used to get the predicted class by selecting the class with the highest output score. The total number of predictions and the number of correct predictions are tracked, and the accuracy percentage is computed."
      ]
    },
    {
      "cell_type": "code",
      "execution_count": null,
      "metadata": {
        "colab": {
          "base_uri": "https://localhost:8080/"
        },
        "id": "R1c3Lud24-4w",
        "outputId": "1031c4a7-e067-46a0-a472-bbe854b02a2c"
      },
      "outputs": [
        {
          "output_type": "stream",
          "name": "stdout",
          "text": [
            "Accuracy of the network on the 10000 test images: 48.01%\n"
          ]
        }
      ],
      "source": [
        "\n",
        "# Evaluate on test data\n",
        "correct = 0\n",
        "total = 0\n",
        "with torch.no_grad():\n",
        "    for data in testloader:\n",
        "        images, labels = data\n",
        "        images, labels = images.to(device), labels.to(device)\n",
        "        outputs = net(images)\n",
        "        _, predicted = torch.max(outputs.data, 1)\n",
        "        total += labels.size(0)\n",
        "        correct += (predicted == labels).sum().item()\n",
        "\n",
        "print(f'Accuracy of the network on the 10000 test images: {100 * correct / total:.2f}%')"
      ]
    },
    {
      "cell_type": "markdown",
      "source": [
        "In conclusion, the accuracy of the k-space image classifier of 48.01% is comparable to the 2-channel rgb image classifier of 55%. This can suggest that there is some efficacy to using k-space arrays to train an image classifier."
      ],
      "metadata": {
        "id": "NW756JTsIjZh"
      }
    }
  ],
  "metadata": {
    "colab": {
      "provenance": [],
      "authorship_tag": "ABX9TyNheN2S/XOmA71K2/db189Q",
      "include_colab_link": true
    },
    "kernelspec": {
      "display_name": "Python 3",
      "name": "python3"
    },
    "language_info": {
      "name": "python"
    }
  },
  "nbformat": 4,
  "nbformat_minor": 0
}